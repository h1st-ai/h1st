{
 "cells": [
  {
   "cell_type": "markdown",
   "metadata": {},
   "source": [
    "# WHY Ensemble ?  \n",
    "\n",
    "Ensembles are a powerful concept in ML, able to take multiple individual models, each one performing well in some subspace, and combine them in such a way that the overall model is (somehow, and ideally) best in all subspaces. Yet they are woefully underutilized in data science. The reason is because most data scientists are either (a) untrained in their use, or more importantly, (b) decide implicitly that the cost of using an ensemble is not worth the gain in performance, compared to the energy needed to just “train a better model”. There is nothing fundamental about this choice: it’s the result of the current state of tooling in data science/machine learning.\n",
    "\n"
   ]
  },
  {
   "cell_type": "markdown",
   "metadata": {},
   "source": [
    "# What is H1ST Ensemble ? \n",
    "In H1ST platform, we want to provid an easy way to use Ensemble to Data Scientist.  \n",
    "You can use h1st Ensemble with h1st models that includes ML/DL models from various AI platforms such as SKLearn and Tensorflow."
   ]
  },
  {
   "cell_type": "markdown",
   "metadata": {},
   "source": [
    "# How to use H1st Ensemble ?\n",
    "1. We will first define/train two h1st example models (You can use N models with h1st Ensemble).\n",
    "2. We will import RandomForestStackEnsembleClassifier from h1st.\n",
    "3. Defind load_data and prep_data functions of RandomForestStackEnsembleClassifier\n",
    "4. Train and evaluate the ensemble"
   ]
  },
  {
   "cell_type": "code",
   "execution_count": 7,
   "metadata": {},
   "outputs": [
    {
     "name": "stdout",
     "output_type": "stream",
     "text": [
      "The autoreload extension is already loaded. To reload it, use:\n",
      "  %reload_ext autoreload\n"
     ]
    }
   ],
   "source": [
    "%load_ext autoreload\n",
    "%autoreload 2"
   ]
  },
  {
   "cell_type": "code",
   "execution_count": 32,
   "metadata": {},
   "outputs": [],
   "source": [
    "import os\n",
    "\n",
    "import pandas as pd\n",
    "\n",
    "import h1st as h1\n",
    "h1.init()\n",
    "from Ensemble.models.submodel_examples import SK_SVM_Classifier, TF_FC_Classifier\n",
    "import Ensemble.config as config"
   ]
  },
  {
   "cell_type": "markdown",
   "metadata": {},
   "source": [
    "## Submodel_1 - SVM"
   ]
  },
  {
   "cell_type": "code",
   "execution_count": 9,
   "metadata": {},
   "outputs": [
    {
     "name": "stdout",
     "output_type": "stream",
     "text": [
      "(20100, 23) (9900, 23) (20100, 1) (9900, 1)\n"
     ]
    }
   ],
   "source": [
    "h1_sk_svm = SK_SVM_Classifier()\n",
    "data = h1_sk_svm.load_data()"
   ]
  },
  {
   "cell_type": "code",
   "execution_count": 24,
   "metadata": {},
   "outputs": [
    {
     "data": {
      "image/png": "[encoded data removed]",
      "text/plain": [
       "<Figure size 432x288 with 1 Axes>"
      ]
     },
     "metadata": {
      "needs_background": "light"
     },
     "output_type": "display_data"
    }
   ],
   "source": [
    "h1_sk_svm.explore(data)"
   ]
  },
  {
   "cell_type": "code",
   "execution_count": null,
   "metadata": {},
   "outputs": [],
   "source": [
    "prepared_data = h1_sk_svm.prep_data(data)"
   ]
  },
  {
   "cell_type": "code",
   "execution_count": 10,
   "metadata": {},
   "outputs": [
    {
     "name": "stderr",
     "output_type": "stream",
     "text": [
      "/Users/arimo/Desktop/jupyter/py3_venv/lib/python3.7/site-packages/sklearn/utils/validation.py:72: DataConversionWarning: A column-vector y was passed when a 1d array was expected. Please change the shape of y to (n_samples, ), for example using ravel().\n",
      "  return f(**kwargs)\n"
     ]
    }
   ],
   "source": [
    "h1_sk_svm.train(prepared_data)"
   ]
  },
  {
   "cell_type": "code",
   "execution_count": 11,
   "metadata": {},
   "outputs": [
    {
     "data": {
      "text/plain": [
       "{'accuracy': 0.8143434343434344}"
      ]
     },
     "execution_count": 11,
     "metadata": {},
     "output_type": "execute_result"
    }
   ],
   "source": [
    "h1_sk_svm.evaluate(prepared_data)\n",
    "h1_sk_svm.metrics"
   ]
  },
  {
   "cell_type": "code",
   "execution_count": 12,
   "metadata": {},
   "outputs": [
    {
     "name": "stderr",
     "output_type": "stream",
     "text": [
      "2020-08-24 15:02:53,423 INFO h1st.model_repository.model_repository: Saving metrics property...\n",
      "2020-08-24 15:02:53,424 INFO h1st.model_repository.model_repository: Saving stats property...\n",
      "2020-08-24 15:02:53,432 INFO h1st.model_repository.model_repository: Saving model property...\n"
     ]
    },
    {
     "data": {
      "text/plain": [
       "'my_sk_svm'"
      ]
     },
     "execution_count": 12,
     "metadata": {},
     "output_type": "execute_result"
    }
   ],
   "source": [
    "h1_sk_svm.persist('my_sk_svm')"
   ]
  },
  {
   "cell_type": "markdown",
   "metadata": {},
   "source": [
    "## Submodel_2 - Fully Connected Neural Net"
   ]
  },
  {
   "cell_type": "code",
   "execution_count": 33,
   "metadata": {},
   "outputs": [
    {
     "name": "stdout",
     "output_type": "stream",
     "text": [
      "(20100, 23) (9900, 23) (20100, 1) (9900, 1)\n"
     ]
    }
   ],
   "source": [
    "h1_tf_fc = TF_FC_Classifier()\n",
    "data = h1_tf_fc.load_data()\n",
    "prepared_data = h1_tf_fc.prep_data(data)"
   ]
  },
  {
   "cell_type": "code",
   "execution_count": 34,
   "metadata": {},
   "outputs": [],
   "source": [
    "h1_tf_fc.train(prepared_data)"
   ]
  },
  {
   "cell_type": "code",
   "execution_count": 35,
   "metadata": {},
   "outputs": [
    {
     "name": "stdout",
     "output_type": "stream",
     "text": [
      "(9900, 1) (9900, 1)\n"
     ]
    },
    {
     "data": {
      "text/plain": [
       "{'accuracy': 0.816060606060606}"
      ]
     },
     "execution_count": 35,
     "metadata": {},
     "output_type": "execute_result"
    }
   ],
   "source": [
    "h1_tf_fc.evaluate(prepared_data)\n",
    "h1_tf_fc.metrics"
   ]
  },
  {
   "cell_type": "code",
   "execution_count": 38,
   "metadata": {},
   "outputs": [
    {
     "name": "stderr",
     "output_type": "stream",
     "text": [
      "2020-08-24 15:13:46,848 INFO h1st.model_repository.model_repository: Saving metrics property...\n",
      "2020-08-24 15:13:46,849 INFO h1st.model_repository.model_repository: Saving stats property...\n",
      "2020-08-24 15:13:46,850 INFO h1st.model_repository.model_repository: Saving model property...\n"
     ]
    },
    {
     "data": {
      "text/plain": [
       "'my_tf_fc'"
      ]
     },
     "execution_count": 38,
     "metadata": {},
     "output_type": "execute_result"
    }
   ],
   "source": [
    "h1_tf_fc.persist('my_tf_fc')"
   ]
  },
  {
   "cell_type": "markdown",
   "metadata": {},
   "source": [
    "## H1ST StackEnsemble"
   ]
  },
  {
   "cell_type": "code",
   "execution_count": 39,
   "metadata": {},
   "outputs": [
    {
     "name": "stderr",
     "output_type": "stream",
     "text": [
      "2020-08-24 15:13:50,185 INFO h1st.model_repository.model_repository: Loading version my_sk_svm ....\n",
      "2020-08-24 15:13:50,219 INFO h1st.model_repository.model_repository: Loading version my_tf_fc ....\n"
     ]
    }
   ],
   "source": [
    "from sklearn.model_selection import train_test_split\n",
    "from h1st import RandomForestStackEnsembleClassifier\n",
    "\n",
    "class RandomForestStackEnsembleClassifier(RandomForestStackEnsembleClassifier):\n",
    "    def load_data(self,):\n",
    "        df = pd.read_excel(config.DATA_PATH, header=1)\n",
    "        return df\n",
    "\n",
    "    def prep_data(self, loaded_data):\n",
    "        \"\"\"\n",
    "        Prepare data for modelling\n",
    "        :param loaded_data: data return from load_data method\n",
    "        :returns: dictionary contains train data and test data\n",
    "        \"\"\"\n",
    "        df = loaded_data\n",
    "        X = df[config.DATA_FEATURES].values\n",
    "        y = df[config.DATA_TARGETS].values\n",
    "        X_train, X_test, y_train, y_test = train_test_split(\n",
    "            X, y, test_size=0.33, shuffle=True, random_state=10)\n",
    "        print(X_train.shape, X_test.shape, y_train.shape, y_test.shape)\n",
    "        \n",
    "        return {\n",
    "            'X_train': X_train,\n",
    "            'X_test': X_test,\n",
    "            'y_train': y_train,\n",
    "            'y_test': y_test\n",
    "        }\n",
    "\n",
    "rf_stack_ensemble = RandomForestStackEnsembleClassifier(\n",
    "    [SK_SVM_Classifier().load('my_sk_svm'), TF_FC_Classifier().load('my_tf_fc')])"
   ]
  },
  {
   "cell_type": "code",
   "execution_count": 40,
   "metadata": {},
   "outputs": [
    {
     "name": "stdout",
     "output_type": "stream",
     "text": [
      "(20100, 23) (9900, 23) (20100, 1) (9900, 1)\n"
     ]
    }
   ],
   "source": [
    "data = rf_stack_ensemble.load_data()\n",
    "prepared_data = rf_stack_ensemble.prep_data(data)"
   ]
  },
  {
   "cell_type": "code",
   "execution_count": 41,
   "metadata": {},
   "outputs": [
    {
     "name": "stdout",
     "output_type": "stream",
     "text": [
      "(20100, 23) (20100, 1) (20100, 1)\n"
     ]
    }
   ],
   "source": [
    "rf_stack_ensemble.train(prepared_data)"
   ]
  },
  {
   "cell_type": "code",
   "execution_count": 42,
   "metadata": {},
   "outputs": [
    {
     "name": "stdout",
     "output_type": "stream",
     "text": [
      "(9900, 23) (9900, 1) (9900, 1)\n"
     ]
    },
    {
     "data": {
      "text/plain": [
       "{'confusion_matrix': array([[7324,  346],\n",
       "        [1451,  779]]),\n",
       " 'recall': array([0.95488918, 0.34932735]),\n",
       " 'f1': array([0.89072666, 0.46438152]),\n",
       " 'support': array([7670, 2230]),\n",
       " 'accuracy': 0.8184848484848485}"
      ]
     },
     "execution_count": 42,
     "metadata": {},
     "output_type": "execute_result"
    }
   ],
   "source": [
    "rf_stack_ensemble.evaluate(prepared_data)"
   ]
  }
 ],
 "metadata": {
  "kernelspec": {
   "display_name": "Python 3",
   "language": "python",
   "name": "python3"
  },
  "language_info": {
   "codemirror_mode": {
    "name": "ipython",
    "version": 3
   },
   "file_extension": ".py",
   "mimetype": "text/x-python",
   "name": "python",
   "nbconvert_exporter": "python",
   "pygments_lexer": "ipython3",
   "version": "3.7.7"
  },
  "toc": {
   "base_numbering": 1,
   "nav_menu": {},
   "number_sections": true,
   "sideBar": true,
   "skip_h1_title": false,
   "title_cell": "Table of Contents",
   "title_sidebar": "Contents",
   "toc_cell": false,
   "toc_position": {},
   "toc_section_display": true,
   "toc_window_display": false
  }
 },
 "nbformat": 4,
 "nbformat_minor": 2
}
